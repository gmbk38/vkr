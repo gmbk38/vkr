{
 "cells": [
  {
   "cell_type": "code",
   "execution_count": 10,
   "metadata": {},
   "outputs": [],
   "source": [
    "from datetime import datetime"
   ]
  },
  {
   "cell_type": "code",
   "execution_count": 12,
   "metadata": {},
   "outputs": [
    {
     "name": "stdout",
     "output_type": "stream",
     "text": [
      "Время кортежа: 0:00:00\n",
      "Время списка: 0:00:00\n"
     ]
    }
   ],
   "source": [
    "#Кортежи и списки\n",
    "start = datetime.now()\n",
    "a = (1,2,3)\n",
    "end = datetime.now() - start\n",
    "print(f\"Время кортежа: {end}\")\n",
    "start = datetime.now()\n",
    "b = [1,2,3]\n",
    "end = datetime.now() - start\n",
    "print(f\"Время списка: {end}\")"
   ]
  },
  {
   "cell_type": "code",
   "execution_count": 30,
   "metadata": {},
   "outputs": [
    {
     "name": "stdout",
     "output_type": "stream",
     "text": [
      "Value:  23\n",
      "Value:  45\n",
      "Value:  30\n",
      "Key:  1\n",
      "Key:  2\n",
      "Key:  5\n",
      "Key:  1\n",
      "Key:  2\n",
      "Key:  5\n"
     ]
    }
   ],
   "source": [
    "#Работа со списком\n",
    "spisok = {\n",
    "    1: 23,\n",
    "    2: 45,\n",
    "    5: 30,\n",
    "}\n",
    "\n",
    "for value in spisok.values():\n",
    "    print('Value: ',value)\n",
    "\n",
    "for key in spisok.keys():\n",
    "    print('Key: ',key)\n",
    "\n",
    "for key in spisok:\n",
    "    print('Key: ',key)"
   ]
  },
  {
   "cell_type": "code",
   "execution_count": 25,
   "metadata": {},
   "outputs": [
    {
     "data": {
      "text/plain": [
       "[2, 4, 6, 8, 10]"
      ]
     },
     "execution_count": 25,
     "metadata": {},
     "output_type": "execute_result"
    }
   ],
   "source": [
    "#Срез\n",
    "srez = [0,2,4,6,8,10,12,14,16,18]\n",
    "srez[slice(1,6,1)]"
   ]
  },
  {
   "cell_type": "code",
   "execution_count": 34,
   "metadata": {},
   "outputs": [
    {
     "name": "stdout",
     "output_type": "stream",
     "text": [
      "0 1\n",
      "1 2\n",
      "2 5\n",
      "Key:  1\n",
      "Key:  2\n",
      "Key:  5\n"
     ]
    }
   ],
   "source": [
    "for key, value in enumerate(spisok):\n",
    "    print(key, value)\n",
    "\n",
    "#Равно\n",
    "\n",
    "for key in spisok:\n",
    "    print('Key: ',key)"
   ]
  },
  {
   "cell_type": "code",
   "execution_count": 35,
   "metadata": {},
   "outputs": [
    {
     "name": "stdout",
     "output_type": "stream",
     "text": [
      "6\n",
      "['date', 'apple', 'banana', 'cherry']\n",
      "[2, 4, 6, 8]\n"
     ]
    }
   ],
   "source": [
    "# Пример 1: Простая лямбда-функция, которая умножает входной аргумент на 2\n",
    "multiply_by_2 = lambda x: x * 2\n",
    "result = multiply_by_2(3)\n",
    "print(result)  # Вывод: 6\n",
    "\n",
    "# Пример 2: Лямбда-функция для сортировки списка строк по их длине\n",
    "words = [\"apple\", \"banana\", \"cherry\", \"date\"]\n",
    "sorted_words = sorted(words, key=lambda word: len(word))\n",
    "print(sorted_words)  # Вывод: ['date', 'apple', 'banana', 'cherry']\n",
    "\n",
    "# Пример 3: Лямбда-функция для фильтрации списка четных чисел\n",
    "numbers = [1, 2, 3, 4, 5, 6, 7, 8]\n",
    "even_numbers = list(filter(lambda x: x % 2 == 0, numbers))\n",
    "print(even_numbers)  # Вывод: [2, 4, 6, 8]\n"
   ]
  },
  {
   "cell_type": "code",
   "execution_count": 37,
   "metadata": {},
   "outputs": [
    {
     "data": {
      "text/plain": [
       "NoneType"
      ]
     },
     "execution_count": 37,
     "metadata": {},
     "output_type": "execute_result"
    }
   ],
   "source": [
    "#NoneType\n",
    "non = None\n",
    "type(non)"
   ]
  },
  {
   "cell_type": "code",
   "execution_count": 39,
   "metadata": {},
   "outputs": [
    {
     "name": "stdout",
     "output_type": "stream",
     "text": [
      "15\n",
      "100\n",
      "a: 1, b: 2\n",
      "Additional arguments (*args): (3, 4, 5)\n",
      "Additional keyword arguments (**kwargs): {'x': 10, 'y': 20}\n"
     ]
    }
   ],
   "source": [
    "#Args и Kwargs\n",
    "def add(*args):\n",
    "    result = 0\n",
    "    for num in args:\n",
    "        result += num\n",
    "    return result\n",
    "\n",
    "sum1 = add(1, 2, 3, 4, 5)\n",
    "print(sum1)  # Вывод: 15\n",
    "\n",
    "sum2 = add(10, 20, 30, 40)\n",
    "print(sum2)  # Вывод: 100\n",
    "\n",
    "def print_values(a, b, *args, **kwargs):\n",
    "    print(f\"a: {a}, b: {b}\")\n",
    "    print(\"Additional arguments (*args):\", args)\n",
    "    print(\"Additional keyword arguments (**kwargs):\", kwargs)\n",
    "\n",
    "print_values(1, 2, 3, 4, 5, x=10, y=20)\n",
    "# Вывод:\n",
    "# a: 1, b: 2\n",
    "# Additional arguments (*args): (3, 4, 5)\n",
    "# Additional keyword arguments (**kwargs): {'x': 10, 'y': 20}\n"
   ]
  },
  {
   "cell_type": "code",
   "execution_count": 46,
   "metadata": {},
   "outputs": [
    {
     "name": "stdout",
     "output_type": "stream",
     "text": [
      "Барон говорит: Гав-гав!\n",
      "Вася говорит: Мяу!\n"
     ]
    }
   ],
   "source": [
    "# Базовый (родительский) класс\n",
    "class Animal:\n",
    "    def __init__(self, name):\n",
    "        self.name = name\n",
    "\n",
    "    def speak(self):\n",
    "        pass\n",
    "\n",
    "# Производные (дочерние) классы\n",
    "class Dog(Animal):\n",
    "    def speak(self):\n",
    "        return f\"{self.name} говорит: Гав-гав!\"\n",
    "\n",
    "class Cat(Animal):\n",
    "    def speak(self):\n",
    "        return f\"{self.name} говорит: Мяу!\"\n",
    "\n",
    "# Создание экземпляров классов\n",
    "dog = Dog(\"Барон\")\n",
    "cat = Cat(\"Вася\")\n",
    "\n",
    "# Вызов методов\n",
    "print(dog.speak())  # Вывод: Барон говорит: Гав-гав!\n",
    "print(cat.speak())  # Вывод: Вася говорит: Мяу!\n"
   ]
  }
 ],
 "metadata": {
  "kernelspec": {
   "display_name": "Python 3",
   "language": "python",
   "name": "python3"
  },
  "language_info": {
   "codemirror_mode": {
    "name": "ipython",
    "version": 3
   },
   "file_extension": ".py",
   "mimetype": "text/x-python",
   "name": "python",
   "nbconvert_exporter": "python",
   "pygments_lexer": "ipython3",
   "version": "3.9.13"
  }
 },
 "nbformat": 4,
 "nbformat_minor": 2
}
